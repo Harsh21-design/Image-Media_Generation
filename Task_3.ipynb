{
  "nbformat": 4,
  "nbformat_minor": 0,
  "metadata": {
    "colab": {
      "provenance": [],
      "gpuType": "T4",
      "include_colab_link": true
    },
    "kernelspec": {
      "name": "python3",
      "display_name": "Python 3"
    },
    "language_info": {
      "name": "python"
    },
    "accelerator": "GPU"
  },
  "cells": [
    {
      "cell_type": "markdown",
      "metadata": {
        "id": "view-in-github",
        "colab_type": "text"
      },
      "source": [
        "<a href=\"https://colab.research.google.com/github/Harsh21-design/Image-Media_Generation/blob/main/Task_3.ipynb\" target=\"_parent\"><img src=\"https://colab.research.google.com/assets/colab-badge.svg\" alt=\"Open In Colab\"/></a>"
      ]
    },
    {
      "cell_type": "code",
      "execution_count": null,
      "metadata": {
        "colab": {
          "base_uri": "https://localhost:8080/"
        },
        "collapsed": true,
        "id": "AEfcf6jGTZHh",
        "outputId": "a230b8c9-0a16-4ae0-9996-d539c8c53931"
      },
      "outputs": [
        {
          "output_type": "stream",
          "name": "stdout",
          "text": [
            "Requirement already satisfied: diffusers in /usr/local/lib/python3.12/dist-packages (0.35.2)\n",
            "Requirement already satisfied: torch in /usr/local/lib/python3.12/dist-packages (2.8.0+cu126)\n",
            "Requirement already satisfied: importlib_metadata in /usr/local/lib/python3.12/dist-packages (from diffusers) (8.7.0)\n",
            "Requirement already satisfied: filelock in /usr/local/lib/python3.12/dist-packages (from diffusers) (3.20.0)\n",
            "Requirement already satisfied: huggingface-hub>=0.34.0 in /usr/local/lib/python3.12/dist-packages (from diffusers) (0.35.3)\n",
            "Requirement already satisfied: numpy in /usr/local/lib/python3.12/dist-packages (from diffusers) (2.0.2)\n",
            "Requirement already satisfied: regex!=2019.12.17 in /usr/local/lib/python3.12/dist-packages (from diffusers) (2024.11.6)\n",
            "Requirement already satisfied: requests in /usr/local/lib/python3.12/dist-packages (from diffusers) (2.32.4)\n",
            "Requirement already satisfied: safetensors>=0.3.1 in /usr/local/lib/python3.12/dist-packages (from diffusers) (0.6.2)\n",
            "Requirement already satisfied: Pillow in /usr/local/lib/python3.12/dist-packages (from diffusers) (11.3.0)\n",
            "Requirement already satisfied: typing-extensions>=4.10.0 in /usr/local/lib/python3.12/dist-packages (from torch) (4.15.0)\n",
            "Requirement already satisfied: setuptools in /usr/local/lib/python3.12/dist-packages (from torch) (75.2.0)\n",
            "Requirement already satisfied: sympy>=1.13.3 in /usr/local/lib/python3.12/dist-packages (from torch) (1.13.3)\n",
            "Requirement already satisfied: networkx in /usr/local/lib/python3.12/dist-packages (from torch) (3.5)\n",
            "Requirement already satisfied: jinja2 in /usr/local/lib/python3.12/dist-packages (from torch) (3.1.6)\n",
            "Requirement already satisfied: fsspec in /usr/local/lib/python3.12/dist-packages (from torch) (2025.3.0)\n",
            "Requirement already satisfied: nvidia-cuda-nvrtc-cu12==12.6.77 in /usr/local/lib/python3.12/dist-packages (from torch) (12.6.77)\n",
            "Requirement already satisfied: nvidia-cuda-runtime-cu12==12.6.77 in /usr/local/lib/python3.12/dist-packages (from torch) (12.6.77)\n",
            "Requirement already satisfied: nvidia-cuda-cupti-cu12==12.6.80 in /usr/local/lib/python3.12/dist-packages (from torch) (12.6.80)\n",
            "Requirement already satisfied: nvidia-cudnn-cu12==9.10.2.21 in /usr/local/lib/python3.12/dist-packages (from torch) (9.10.2.21)\n",
            "Requirement already satisfied: nvidia-cublas-cu12==12.6.4.1 in /usr/local/lib/python3.12/dist-packages (from torch) (12.6.4.1)\n",
            "Requirement already satisfied: nvidia-cufft-cu12==11.3.0.4 in /usr/local/lib/python3.12/dist-packages (from torch) (11.3.0.4)\n",
            "Requirement already satisfied: nvidia-curand-cu12==10.3.7.77 in /usr/local/lib/python3.12/dist-packages (from torch) (10.3.7.77)\n",
            "Requirement already satisfied: nvidia-cusolver-cu12==11.7.1.2 in /usr/local/lib/python3.12/dist-packages (from torch) (11.7.1.2)\n",
            "Requirement already satisfied: nvidia-cusparse-cu12==12.5.4.2 in /usr/local/lib/python3.12/dist-packages (from torch) (12.5.4.2)\n",
            "Requirement already satisfied: nvidia-cusparselt-cu12==0.7.1 in /usr/local/lib/python3.12/dist-packages (from torch) (0.7.1)\n",
            "Requirement already satisfied: nvidia-nccl-cu12==2.27.3 in /usr/local/lib/python3.12/dist-packages (from torch) (2.27.3)\n",
            "Requirement already satisfied: nvidia-nvtx-cu12==12.6.77 in /usr/local/lib/python3.12/dist-packages (from torch) (12.6.77)\n",
            "Requirement already satisfied: nvidia-nvjitlink-cu12==12.6.85 in /usr/local/lib/python3.12/dist-packages (from torch) (12.6.85)\n",
            "Requirement already satisfied: nvidia-cufile-cu12==1.11.1.6 in /usr/local/lib/python3.12/dist-packages (from torch) (1.11.1.6)\n",
            "Requirement already satisfied: triton==3.4.0 in /usr/local/lib/python3.12/dist-packages (from torch) (3.4.0)\n",
            "Requirement already satisfied: packaging>=20.9 in /usr/local/lib/python3.12/dist-packages (from huggingface-hub>=0.34.0->diffusers) (25.0)\n",
            "Requirement already satisfied: pyyaml>=5.1 in /usr/local/lib/python3.12/dist-packages (from huggingface-hub>=0.34.0->diffusers) (6.0.3)\n",
            "Requirement already satisfied: tqdm>=4.42.1 in /usr/local/lib/python3.12/dist-packages (from huggingface-hub>=0.34.0->diffusers) (4.67.1)\n",
            "Requirement already satisfied: hf-xet<2.0.0,>=1.1.3 in /usr/local/lib/python3.12/dist-packages (from huggingface-hub>=0.34.0->diffusers) (1.1.10)\n",
            "Requirement already satisfied: mpmath<1.4,>=1.1.0 in /usr/local/lib/python3.12/dist-packages (from sympy>=1.13.3->torch) (1.3.0)\n",
            "Requirement already satisfied: zipp>=3.20 in /usr/local/lib/python3.12/dist-packages (from importlib_metadata->diffusers) (3.23.0)\n",
            "Requirement already satisfied: MarkupSafe>=2.0 in /usr/local/lib/python3.12/dist-packages (from jinja2->torch) (3.0.3)\n",
            "Requirement already satisfied: charset_normalizer<4,>=2 in /usr/local/lib/python3.12/dist-packages (from requests->diffusers) (3.4.4)\n",
            "Requirement already satisfied: idna<4,>=2.5 in /usr/local/lib/python3.12/dist-packages (from requests->diffusers) (3.11)\n",
            "Requirement already satisfied: urllib3<3,>=1.21.1 in /usr/local/lib/python3.12/dist-packages (from requests->diffusers) (2.5.0)\n",
            "Requirement already satisfied: certifi>=2017.4.17 in /usr/local/lib/python3.12/dist-packages (from requests->diffusers) (2025.10.5)\n"
          ]
        }
      ],
      "source": [
        "!pip install diffusers torch"
      ]
    },
    {
      "cell_type": "code",
      "source": [
        "from diffusers import DiffusionPipeline\n",
        "import torch\n",
        "\n",
        "pipe_prior = DiffusionPipeline.from_pretrained(\"kandinsky-community/kandinsky-2-1-prior\", torch_dtype=torch.float16)\n",
        "pipe_prior.to(\"cuda\")\n",
        "\n",
        "t2i_pipe = DiffusionPipeline.from_pretrained(\"kandinsky-community/kandinsky-2-1\", torch_dtype=torch.float16)\n",
        "t2i_pipe.to(\"cuda\")\n"
      ],
      "metadata": {
        "colab": {
          "base_uri": "https://localhost:8080/",
          "height": 1000,
          "referenced_widgets": [
            "cc89c81aefbe4338aeb5a48bd42f1104",
            "63dea721f46a425590e5df980dc34e39",
            "17c8c07eb1fa4a9a99128fc0f3476e48",
            "a9ff5b49e9334c6c91398b29fb8061e8",
            "e7888832f1ea4d94b789003783c86ee3",
            "8fd3e25b799f4bf7a298550e261754e8",
            "0ad2ee6f27d546049925a33cc60794ab",
            "d5c8b42841b448a7ac03c7d09419ae36",
            "2401b6c5da494710b54e1ddf4651382d",
            "2651e8028ec8483cacd69cd1399bb821",
            "6fd4d3396e1d414bb0f54937b4eb8185",
            "5af3f4da75eb4c2da4ccf6197a4f656e",
            "9ba802d5b06c4468a53300003c35cf7f",
            "9bc4d4e5307747b789107b04fba28819",
            "f2bc256bd63249b79ab2b3b0db470a0b",
            "2ae8a8ad851d41a6ac309716cad7d595",
            "2f376c84d6524cb28252063c469e37d3",
            "315847d32c8b4bf498d444a8eff1b159",
            "4a8a573d9dd14efb9849cbb4be4b2cc8",
            "9e245dbd40f14fb6b9824397b5741632",
            "f9470065b2b54239b04a94c09f612620",
            "3061577122a249ceae11cb144dd97fab",
            "c0ffe16a72c0421183b8031d80801505",
            "3c57b67ef0b5419cb06162ef4a29371e",
            "a6a9a638858a4f51aec740c3b68982f0",
            "77a063ccd80c48fca6246fd9b879ebfc",
            "0f84f86a6a4c453b81113f5fc5ba2e7e",
            "472a2fda3cd34d8ea898fd2847fbe905",
            "6581363899ce4dbfa48d7e2b6a07ea28",
            "1e8e3b17160d411085adb905845d8547",
            "c7857d82b3e34896b14a79bc28becc00",
            "68cfbaeb9e8c4667bc04818b8fcb5c01",
            "f714d637d5ab43d5a86e654c82ddd239",
            "a89558197b7e4be0afd978fd640147ac",
            "598f89ed824846b0b40ab44a687328b3",
            "b7d5f519c7bd447cbd71f45468966317",
            "02353e59530b435d98f82ece24ee8001",
            "42effdca5f0143fe88680c5b1672d236",
            "e4433293f9494272ab82721cad467c7a",
            "349179e4e84b496f8d7f4bbb7a9250c6",
            "5370abba0d51404a856a522bfad6c452",
            "c3313613788a46c0be1f94667382f410",
            "7bb41556f17b49c7bbe9400ac6df56c3",
            "a42958eae44d46fe8af57bcb0777616d",
            "6b9b8530cf4f44a7830eaa92da3a454c",
            "ec4a53e4065b4be4801314bb982137c0",
            "926ca3d263174fdc9fcee7228ba87c6d",
            "1d211bde519c46869df7c1918f6d4579",
            "0f897d5133a1427faea37d506284da0d",
            "25f59477c35c4a339502ddfe5b396720",
            "59f4edc13a5d48b98d8ce15b19fda565",
            "f04fbabc1ca04274ad4649b99b7bcb06",
            "b66eb95820ba466788296f2fc5cfaa39",
            "f200b8e8eb81479293a030517b62857c",
            "be41d0c8b185422aaa9d82008bc26b36",
            "17ebacef25cc4450bc37ef10af4b7e5a",
            "25f22633da964c67b7d2898039b9885e",
            "128e1077f9b74860a79328ef901fc354",
            "0eda5d1f61d64a5d8854b45d9355684c",
            "fb2817fa6b6948079bd5d30af9584e19",
            "ab74ec81111349719de2f4ffdceb96e1",
            "cac2db4b9b0247d3a55093fb104bd0f0",
            "4efab9319b884f619edb6ac503f95498",
            "f2249de1392a46089c44283273bd94aa",
            "c686955dbdca4cdcb36931f15c7e78df",
            "24c13b01fcd545dea1e96a8771e1aeb2",
            "d790ed810579403e9fcaa8a693f79d12",
            "953525ac50304370a534b5db1c15c5ef",
            "d2c284dd808746b080b329b641fab345",
            "7d984024526d485ea8e9091d9c6b68ec",
            "6ea6c92f62da45d7b3fca7a9a8458893",
            "df1a3986d4bb4d5e8c5a72cdf6e9d309",
            "5e91c0a0d1624ecd9e0e2bec623d2eda",
            "f8f86e97826848f3a451e0e3d878fb82",
            "c38870d499314010913014467721dd80",
            "bb81a6f5468f4eac9551eec4ff0dbb5d",
            "abe6b639ec5049b188443f6e433999a8",
            "9f3e02bfb4af4e08b9e20b0069a60306",
            "04c6eeb9ae2b4a29918ec1bc90b7d4e9",
            "bb75025032be41ee8d75b2e6177e9845",
            "df561cb11f8e44b6a1af7376886e5099",
            "3fc891a29fb54101934a39a1a5477ea3",
            "72380bc4ec014cecb08f4321eb14ad84",
            "70f4f8370c0d47b88935d2e1c82ab2ef",
            "bb56704d4302485ba9536b0281926b9c",
            "ec51f650043643fab908c54c6ad1149a",
            "f9d8341be4084d10b04ccdfe2b3067e1",
            "667e8fccd23f40b4a6a0cfcee95b7fb8",
            "d22a486e438f45089cb61d0c31ce25da",
            "b3c9b10bee6947a68236ad0291d50c3f",
            "a838cf55bc094fe099561fefe05b5b00",
            "fa6f18713843401b8753ba108530ab8e",
            "3fdf7c6e0f1b4e3abe449dca1cf879d1",
            "1d8debd0ec5f4fad89ea484bd94bbcd2",
            "d2ea9c44a609480ea82c22d62d277fce",
            "af4600f5ca3f4e199067c22163d1ee24",
            "c26d9ce41e1a4f0aa8bf1a9e5a1ca270",
            "90e815f8b26c408cb6d719dcf63535bf",
            "f5ab77bd9f6b41e99acc6d59dcee0400",
            "eda98d036eb04099867790a4d23df298",
            "7ebaff7ba04747cf9a1b2fe04b0f81ee",
            "8c145e5afab24a6f8cab2b3857f79a23",
            "620079d031834a52b0268d1793a197a9",
            "113590faf0524354886565c4631209e8",
            "9b74e842e4f24f82812a44f850492081",
            "db008faa56ef4811af039476396ae749",
            "560a42e98978437abbf565ecf13cee0f",
            "33c7e16126b348afa7728e78f6e3f2a9",
            "bc725362d35e4cc881df4640ce08920a",
            "df52abfb993040bc8eaf4f2578e39ed1",
            "3038aaaaa28e41ec8bf7799b93c4bab3",
            "767d8f38bb0b418d8f582ff83115a171",
            "7f769d7302bc45b6bd2a3fc22a28ea07",
            "b4c2def67f8a430c93e63beba2519788",
            "eeb6609606214c25a881c4ceec2d97df",
            "ce8b6265ff3045d5a4ff18bcb7c795af",
            "27bf5cc2920f413ca9d7368d19edff0d",
            "8c2caaf407884239aa8facc460e855b9",
            "c7f29bddda1947089a03c844c02ff281",
            "e8083bac87104d41b2f02199f326ecab",
            "39e47a9c3ceb48e8a3dcefba528f898e",
            "848176c3bf2847d9a780f2f38585ae4f",
            "b954afa6a56e4e1d993a67dae78198f4",
            "aa0168b0e49a427d9c2e69acf5c9316c",
            "933fc6125ccb446288551f6afba559de",
            "da283bd537254aa8b8b06cfbfa191bed",
            "0ed81f1c1b7e4232a882d184db7925d4",
            "9dd2476df0cd438abaa43d07a0898814",
            "91188d56541648dba25a346c78ead12f",
            "b4361254ebf7433999b4aa202d6f57cc",
            "9baa2339b99f4a43aa246127194fc846",
            "079b4fd6b1ca49b9aef66fd86c06c656",
            "7cb009d7294542cf9dc0e34d24cc76f6",
            "d0d7e862bba04c349c3a836880e0118e",
            "794b8d1d474f4989b71a6619d8cde277",
            "58ae4872299142e4842f8683e1c2d44e",
            "8e7f0b1445504771828910213c3bb8e9",
            "373384e6c54f451fa87ee652bec33b7e",
            "55cd7c06701444d99ead4c78b021b028",
            "781919dadcaf4a42826611be173bdc2b",
            "7e2671e38e834e179b1adc0e2988117d",
            "12fd3fa4e9b54ee1a8a9254881acb211",
            "98abd4ae19ff464381a9a1f01bc3e599",
            "6a863b2be22444f48de14b7b586685bf",
            "b87cb4524a774063b6fb06351bb29cbb",
            "2692428da90b468998d8860d10fef633",
            "671329a5b4c944adb4d14eac7f0899aa",
            "abbb752944454251960f02e111d248a1",
            "9005258692df4c1d9168ef5f2dad44ba",
            "0be2c097eb7a44edaaff6f6c9695d074",
            "a965f7caa9594e4485de12125dec3636",
            "6cf4f5091dbf4bfea382af63ab1198e9",
            "9d0d803ee8af440085356d4bc34a9838",
            "ae8cd5170c56454590ae374bc1253fb5",
            "33f0bb1f2b0a41ccb11db91fcd8af6f6",
            "bb082c65984f469abd7046aef2de9247",
            "00b09790de1446eeabdc94b03c8a79f1",
            "90e2b8a627394db69f7726449c36bd73",
            "d261fd8a8af0426baa4a58ac133655ba",
            "9d24f6b812f04608aef23f5efecdee73",
            "d2b69b53043f4f0f8ebc3387e0dd2306",
            "6d423d03f6524c289bb08646c63f9d01",
            "a088fc44d71640069a9106d3e8602ec7",
            "4276974fe5da4cb6a357977ee7a7e497",
            "561ef0206330450ea69e956b89a318d8",
            "c2cfbd38e48f4da3a9f03155e2e9b655",
            "55a8d71027a249ce9fe818a2ee936497",
            "98d06a65ef75435d949f02efe6e7f623",
            "1dd81d532b6945d3b282ad109b7a3459",
            "4162ebc1cd4844edb4c63f558b4a75bd",
            "68ddef4ae40a471e849451a441327682",
            "916d78b1ae084d13992d58eadbe29c32",
            "4e83fe2057a148a19133bd1bf3a0b472",
            "112d67216f6c41d2a42107512b33a970",
            "c76d67e6ba0042c4b0d2b1b4aab8d1a1",
            "7bd594034f804d18ad06ac1648ce2ccd",
            "233eb448bffd4b749205b3174d180158",
            "03cc2e8bba144f729f7125e579f0575b",
            "d787cb3c35134ea284d9cf4a45b6db68",
            "d13fea54a5514510a57a2be85370b6ff",
            "7d7e19eb99714f358dd9889667c8536d",
            "3756bbdde0ea4a238b20b7bc975f5225",
            "5bd06d8d59fc4348b7a0ba31c796199c",
            "3572bd637ff44421ad40be375b27f547",
            "7ae1bf84918b41c799540af1ee7bb181",
            "2e45460c3ece46d1bfe23d7315db1075",
            "46fe9428364e4fb498b9b54a7c965aa9",
            "b7f0b8e9d8b04ea1a3dd400511cba825",
            "cd886a2312a14ee0ac2adcab57fc91e3",
            "9d6d29a14e364e3f9289cbf266a5bf30",
            "69710fb5d8464f39a1c274c58aaea08f",
            "bff6ce63be424eb5b9fd28e9ea2248a8",
            "584aab2d77fb45aea2a2e6a02a424464",
            "a8a9591da7b14fb9bcaced99b5dca7b5",
            "e161678408274e6f8965a8c1f32084af",
            "500c64cc3cc844be853dc67d0f5b0828",
            "bef681ba6229452a9bab8b840320cad3",
            "31cc5f89556f4f53b741157fea79ad33",
            "805479cdcb994ec5b95557675a544b86",
            "64ffb0e10f864c9a996d8f073818b9e7",
            "98ff6ad9f0ff4cf3be4626f601d5c99c",
            "40d515bc5e5048f884f62b4fe79738de",
            "b7333ccef6d84e2d9a3917199767fa52",
            "983679c22d9449db91f7b94a9d3683d6",
            "d693400652614cb8aa8b8b8ce26020f7",
            "dd1b56dc8c5d438ebfc9e868ac17ddd9",
            "63ef65b3991844bbbb8b772da6479b1b",
            "c6c54dc0883a43a084162e12dbec9fe1",
            "aae45ffd4ae94e128620ee28b952eab1",
            "42699a579dd144188a493e9b8f99c1c3",
            "e820b77d72ce4feeb898f2416adf2aba",
            "c4e8837fa52e408cac57f392d1567656",
            "31423f890f1d41038c566d842ef169ed",
            "753679a2cbe54e41bcf8baaaead62ef8",
            "1a73f26e39064beb819b195424ff1256",
            "187da69f4b78471b9821bc0955613d05",
            "a5dea68414654795b76c9ff7e94294d3",
            "3c431d0c368f4787aa461b1b11190b6d",
            "491eb6353c91480d9e27b0724ed66ced",
            "97969c976fc541dd8f8727636377c5d1",
            "748e5264419a4e5aaa0bd1962d77be4c",
            "b2e444252c56476baa683f977821a21d",
            "93413946b6254cef8ef7dfb08b5b7281",
            "6e215cc597f44edd8e4d6f570bb190fb",
            "6abf8cbe36174934b5b944b687d5c3d0",
            "090a9572fc3640f2aeb8d1a7cc08c1d0",
            "090319b0da9947d5b1cbed3fde6c9ba3",
            "d60275723b8941e299990ba6a60610ff",
            "3cb966dfb1544ba48df25e661b4f184b",
            "2489c64dcdde4cce8b2c0c4f86c8b77b",
            "fda6251cb6214925b7cfaf6231073b43",
            "7c2855b1013f461f9382915191a9d2df",
            "fee00702ac564596ba43c017f138c20e",
            "d0dbe96a82f746cd960bd1aae9a8f967",
            "6fb8238a23f040c495fa82d135a1f925",
            "3fc772ebb16f477c935618f5d3948ddc",
            "783b281c3e6846db90d1231b6d92e47c",
            "76890f76172246e2810e7f4baa11436d",
            "1fb609119df64693a4d0390bbcfbda41",
            "48ef8e4798ae45dab5c5eb879fe5bbfe",
            "cd342ce1f9b243b4872ec2bc20477e37",
            "f2f58d365eda4c66a8cdfd1e1ca051aa",
            "ea94f5164a3d47a297dad3f722e19dea",
            "981119eb7aa84a24b28982a58b07e38d",
            "7892736f6fb648d8a2a8c9191f023321",
            "e63fff55b4d84baa934400a7a7d28871",
            "4d2176f02793412ca8f680e2394906c7",
            "2ce5e96a11e24abd861cfc5a5dda59ab",
            "5ab0d94ab6454a078c2a5bbe57d45c2d",
            "a9dffc9e90c94200bd1df7e62b5ea0d9",
            "b0cfdd82372b489b9b498baee4e5182e",
            "03e9c77eb7d24f898de1e703ca5951d1",
            "45de6763dca245e0b7e5856bf87f97d3",
            "2aa75d76d66843f2a3e6bcb80cd0c635",
            "8700b02e28974745b1601010b15bf29d",
            "9cc9428650d64efb806eb0a612ba008f",
            "dfb5b5457ce44eb1b0ef7d93bbfd732e",
            "42b42483a4f246d285d238a4a8db2a86",
            "3a72339515b44d3caab024911e60ebf3",
            "99721465810845cd99c9c01d6565acb9",
            "2a43fdf4c01e4190bcb329f63fa127d4",
            "08d65aaaa510434592da92b2f3827197",
            "5fdfd41eabd84ff28dc388af4dc2cb60",
            "e8ba592c41554c35a39c4bc13e94b738",
            "398783168252423894d467b0a2bb6e60",
            "6979eeca92e847fc8cd6a69338fc875a",
            "67e5eda5911c4856a8e0c9befc92aeef",
            "f7bd11f7d70043779340c5459e867289",
            "63dbf7ca291345459dfb7863dd050d22",
            "229c66d84e014766b45c353df6215ae9",
            "421a5f6b0d974fbfbedc8fbfdfded8db",
            "43ee4f990f8348958f34db516869dca2",
            "c18e2028c1f54d49b3e7d1a8f750a005",
            "07fe2cb707eb42c696364bfa477811eb",
            "24f27cbc3191423d9b2bfd75c0541e35",
            "060cfbd736f74991b633341d1a9d2d88",
            "a085cf925182474fbc1d5ce5cae0f9d2",
            "cf308aa69f904c4b989005a11fbdfe44",
            "c5fef402021f42d693b07dc3f0190b78",
            "0b33b50b2c014f49943d9b70288c4f93",
            "992e7a9a4a604dd9b887dd3804f94692",
            "68e956f89b5c43689cb8acbb0bf80273",
            "5e55722c483a4b7386acc747a641af9c",
            "e372d5bd8de04476b47da8184d3f28ce",
            "6e7c008d570f4328b45b7c96e5d635bd",
            "7bcda06d63a4498b82fe9178f7c38d4b",
            "1eb7325034484a08bd3e5c38ee937aa2",
            "4d9b4f5304764736a9829c24b85e8b66",
            "7780e04449084c28b39fed61f7251893",
            "b93eba8cd2684260a57f2cf481f67ce3",
            "5cb5e066fca24989a91971ef555e5473",
            "4556ef427e2f41e491046437f456c9eb",
            "a9b2c488616a4e2cbb326285f9430a12",
            "f185c41eb09345ef93d0fd5147c87788",
            "ad45f082c497426b9fdcbb08fe4abcd6",
            "0e94fada410a4c5b916e18f950c48b5e",
            "b2107b1188e74e8299a824ed33f9cfd5",
            "9777441e8faf41a5a77d87b0153f2c49",
            "1f4022e8ed7d439d84737532bbc0e8de",
            "b06b60e3cc6c4de994fe9015b79e3f44",
            "80d347bbfe71429ea96693ac48151400",
            "4383405d299049468f1ee1cd4a789efb",
            "1f6be1858909402dbd755f3bf0a8f740",
            "3ab12c044d884b34a0226fcf7af36972",
            "3f9ba02b970f4df3a848a693b055c8c2",
            "c1909da5fabc47c79691ffe19806b42b",
            "783ae7e14c3d4a71b8cfb594d907c65c",
            "cf7e93b6c8fe45db94d2ccdd44f6b725",
            "8b8ed6c918dd4a06bee53c9aeebfbe77",
            "8df61bec864446b3947f1b6176034a45",
            "0d826a42835843d586d7744b55d66660",
            "d53631105282433189683a86d736e25c",
            "5bd1bdb12023454385375ff0ad39e8ab",
            "8cf3721bf6cf4a15b59e35155063415f",
            "18c608dabe644df89202412d95dfa64e",
            "dfd6243a1557426a99411c4c3e4eac79",
            "9ecfd7f1733e4080afc1aebaca0ea7c9",
            "96cf3ade0bf64008987dc11a2cda959b",
            "a3bc322cc85a430baca03508924d8872"
          ]
        },
        "collapsed": true,
        "id": "RCukGG0lTjz7",
        "outputId": "85f5f513-89bc-496e-80c0-12b75480c000"
      },
      "execution_count": null,
      "outputs": [
        {
          "output_type": "stream",
          "name": "stderr",
          "text": [
            "/usr/local/lib/python3.12/dist-packages/huggingface_hub/utils/_auth.py:94: UserWarning: \n",
            "The secret `HF_TOKEN` does not exist in your Colab secrets.\n",
            "To authenticate with the Hugging Face Hub, create a token in your settings tab (https://huggingface.co/settings/tokens), set it as secret in your Google Colab and restart your session.\n",
            "You will be able to reuse this secret in all of your notebooks.\n",
            "Please note that authentication is recommended but still optional to access public models or datasets.\n",
            "  warnings.warn(\n"
          ]
        },
        {
          "output_type": "display_data",
          "data": {
            "text/plain": [
              "model_index.json:   0%|          | 0.00/500 [00:00<?, ?B/s]"
            ],
            "application/vnd.jupyter.widget-view+json": {
              "version_major": 2,
              "version_minor": 0,
              "model_id": "cc89c81aefbe4338aeb5a48bd42f1104"
            }
          },
          "metadata": {}
        },
        {
          "output_type": "display_data",
          "data": {
            "text/plain": [
              "Fetching 13 files:   0%|          | 0/13 [00:00<?, ?it/s]"
            ],
            "application/vnd.jupyter.widget-view+json": {
              "version_major": 2,
              "version_minor": 0,
              "model_id": "5af3f4da75eb4c2da4ccf6197a4f656e"
            }
          },
          "metadata": {}
        },
        {
          "output_type": "display_data",
          "data": {
            "text/plain": [
              "config.json:   0%|          | 0.00/574 [00:00<?, ?B/s]"
            ],
            "application/vnd.jupyter.widget-view+json": {
              "version_major": 2,
              "version_minor": 0,
              "model_id": "c0ffe16a72c0421183b8031d80801505"
            }
          },
          "metadata": {}
        },
        {
          "output_type": "display_data",
          "data": {
            "text/plain": [
              "preprocessor_config.json:   0%|          | 0.00/315 [00:00<?, ?B/s]"
            ],
            "application/vnd.jupyter.widget-view+json": {
              "version_major": 2,
              "version_minor": 0,
              "model_id": "a89558197b7e4be0afd978fd640147ac"
            }
          },
          "metadata": {}
        },
        {
          "output_type": "display_data",
          "data": {
            "text/plain": [
              "config.json:   0%|          | 0.00/252 [00:00<?, ?B/s]"
            ],
            "application/vnd.jupyter.widget-view+json": {
              "version_major": 2,
              "version_minor": 0,
              "model_id": "6b9b8530cf4f44a7830eaa92da3a454c"
            }
          },
          "metadata": {}
        },
        {
          "output_type": "display_data",
          "data": {
            "text/plain": [
              "scheduler_config.json:   0%|          | 0.00/229 [00:00<?, ?B/s]"
            ],
            "application/vnd.jupyter.widget-view+json": {
              "version_major": 2,
              "version_minor": 0,
              "model_id": "17ebacef25cc4450bc37ef10af4b7e5a"
            }
          },
          "metadata": {}
        },
        {
          "output_type": "display_data",
          "data": {
            "text/plain": [
              "config.json:   0%|          | 0.00/626 [00:00<?, ?B/s]"
            ],
            "application/vnd.jupyter.widget-view+json": {
              "version_major": 2,
              "version_minor": 0,
              "model_id": "d790ed810579403e9fcaa8a693f79d12"
            }
          },
          "metadata": {}
        },
        {
          "output_type": "display_data",
          "data": {
            "text/plain": [
              "image_encoder/model.safetensors:   0%|          | 0.00/1.22G [00:00<?, ?B/s]"
            ],
            "application/vnd.jupyter.widget-view+json": {
              "version_major": 2,
              "version_minor": 0,
              "model_id": "9f3e02bfb4af4e08b9e20b0069a60306"
            }
          },
          "metadata": {}
        },
        {
          "output_type": "display_data",
          "data": {
            "text/plain": [
              "text_encoder/model.safetensors:   0%|          | 0.00/495M [00:00<?, ?B/s]"
            ],
            "application/vnd.jupyter.widget-view+json": {
              "version_major": 2,
              "version_minor": 0,
              "model_id": "d22a486e438f45089cb61d0c31ce25da"
            }
          },
          "metadata": {}
        },
        {
          "output_type": "display_data",
          "data": {
            "text/plain": [
              "prior/diffusion_pytorch_model.safetensor(…):   0%|          | 0.00/4.09G [00:00<?, ?B/s]"
            ],
            "application/vnd.jupyter.widget-view+json": {
              "version_major": 2,
              "version_minor": 0,
              "model_id": "eda98d036eb04099867790a4d23df298"
            }
          },
          "metadata": {}
        },
        {
          "output_type": "display_data",
          "data": {
            "text/plain": [
              "merges.txt: 0.00B [00:00, ?B/s]"
            ],
            "application/vnd.jupyter.widget-view+json": {
              "version_major": 2,
              "version_minor": 0,
              "model_id": "3038aaaaa28e41ec8bf7799b93c4bab3"
            }
          },
          "metadata": {}
        },
        {
          "output_type": "display_data",
          "data": {
            "text/plain": [
              "special_tokens_map.json:   0%|          | 0.00/460 [00:00<?, ?B/s]"
            ],
            "application/vnd.jupyter.widget-view+json": {
              "version_major": 2,
              "version_minor": 0,
              "model_id": "848176c3bf2847d9a780f2f38585ae4f"
            }
          },
          "metadata": {}
        },
        {
          "output_type": "display_data",
          "data": {
            "text/plain": [
              "tokenizer_config.json:   0%|          | 0.00/767 [00:00<?, ?B/s]"
            ],
            "application/vnd.jupyter.widget-view+json": {
              "version_major": 2,
              "version_minor": 0,
              "model_id": "7cb009d7294542cf9dc0e34d24cc76f6"
            }
          },
          "metadata": {}
        },
        {
          "output_type": "display_data",
          "data": {
            "text/plain": [
              "vocab.json: 0.00B [00:00, ?B/s]"
            ],
            "application/vnd.jupyter.widget-view+json": {
              "version_major": 2,
              "version_minor": 0,
              "model_id": "6a863b2be22444f48de14b7b586685bf"
            }
          },
          "metadata": {}
        },
        {
          "output_type": "display_data",
          "data": {
            "text/plain": [
              "Loading pipeline components...:   0%|          | 0/6 [00:00<?, ?it/s]"
            ],
            "application/vnd.jupyter.widget-view+json": {
              "version_major": 2,
              "version_minor": 0,
              "model_id": "33f0bb1f2b0a41ccb11db91fcd8af6f6"
            }
          },
          "metadata": {}
        },
        {
          "output_type": "stream",
          "name": "stderr",
          "text": [
            "`torch_dtype` is deprecated! Use `dtype` instead!\n"
          ]
        },
        {
          "output_type": "display_data",
          "data": {
            "text/plain": [
              "model_index.json:   0%|          | 0.00/385 [00:00<?, ?B/s]"
            ],
            "application/vnd.jupyter.widget-view+json": {
              "version_major": 2,
              "version_minor": 0,
              "model_id": "c2cfbd38e48f4da3a9f03155e2e9b655"
            }
          },
          "metadata": {}
        },
        {
          "output_type": "display_data",
          "data": {
            "text/plain": [
              "Fetching 12 files:   0%|          | 0/12 [00:00<?, ?it/s]"
            ],
            "application/vnd.jupyter.widget-view+json": {
              "version_major": 2,
              "version_minor": 0,
              "model_id": "233eb448bffd4b749205b3174d180158"
            }
          },
          "metadata": {}
        },
        {
          "output_type": "display_data",
          "data": {
            "text/plain": [
              "scheduler_config.json:   0%|          | 0.00/318 [00:00<?, ?B/s]"
            ],
            "application/vnd.jupyter.widget-view+json": {
              "version_major": 2,
              "version_minor": 0,
              "model_id": "b7f0b8e9d8b04ea1a3dd400511cba825"
            }
          },
          "metadata": {}
        },
        {
          "output_type": "display_data",
          "data": {
            "text/plain": [
              "config.json:   0%|          | 0.00/660 [00:00<?, ?B/s]"
            ],
            "application/vnd.jupyter.widget-view+json": {
              "version_major": 2,
              "version_minor": 0,
              "model_id": "805479cdcb994ec5b95557675a544b86"
            }
          },
          "metadata": {}
        },
        {
          "output_type": "display_data",
          "data": {
            "text/plain": [
              "special_tokens_map.json:   0%|          | 0.00/280 [00:00<?, ?B/s]"
            ],
            "application/vnd.jupyter.widget-view+json": {
              "version_major": 2,
              "version_minor": 0,
              "model_id": "42699a579dd144188a493e9b8f99c1c3"
            }
          },
          "metadata": {}
        },
        {
          "output_type": "display_data",
          "data": {
            "text/plain": [
              "movq/diffusion_pytorch_model.safetensors:   0%|          | 0.00/271M [00:00<?, ?B/s]"
            ],
            "application/vnd.jupyter.widget-view+json": {
              "version_major": 2,
              "version_minor": 0,
              "model_id": "748e5264419a4e5aaa0bd1962d77be4c"
            }
          },
          "metadata": {}
        },
        {
          "output_type": "display_data",
          "data": {
            "text/plain": [
              "config.json:   0%|          | 0.00/662 [00:00<?, ?B/s]"
            ],
            "application/vnd.jupyter.widget-view+json": {
              "version_major": 2,
              "version_minor": 0,
              "model_id": "7c2855b1013f461f9382915191a9d2df"
            }
          },
          "metadata": {}
        },
        {
          "output_type": "display_data",
          "data": {
            "text/plain": [
              "text_encoder/model.safetensors:   0%|          | 0.00/2.24G [00:00<?, ?B/s]"
            ],
            "application/vnd.jupyter.widget-view+json": {
              "version_major": 2,
              "version_minor": 0,
              "model_id": "ea94f5164a3d47a297dad3f722e19dea"
            }
          },
          "metadata": {}
        },
        {
          "output_type": "display_data",
          "data": {
            "text/plain": [
              "tokenizer/sentencepiece.bpe.model:   0%|          | 0.00/5.07M [00:00<?, ?B/s]"
            ],
            "application/vnd.jupyter.widget-view+json": {
              "version_major": 2,
              "version_minor": 0,
              "model_id": "2aa75d76d66843f2a3e6bcb80cd0c635"
            }
          },
          "metadata": {}
        },
        {
          "output_type": "display_data",
          "data": {
            "text/plain": [
              "tokenizer.json:   0%|          | 0.00/17.1M [00:00<?, ?B/s]"
            ],
            "application/vnd.jupyter.widget-view+json": {
              "version_major": 2,
              "version_minor": 0,
              "model_id": "398783168252423894d467b0a2bb6e60"
            }
          },
          "metadata": {}
        },
        {
          "output_type": "display_data",
          "data": {
            "text/plain": [
              "tokenizer_config.json:   0%|          | 0.00/418 [00:00<?, ?B/s]"
            ],
            "application/vnd.jupyter.widget-view+json": {
              "version_major": 2,
              "version_minor": 0,
              "model_id": "060cfbd736f74991b633341d1a9d2d88"
            }
          },
          "metadata": {}
        },
        {
          "output_type": "display_data",
          "data": {
            "text/plain": [
              "config.json: 0.00B [00:00, ?B/s]"
            ],
            "application/vnd.jupyter.widget-view+json": {
              "version_major": 2,
              "version_minor": 0,
              "model_id": "1eb7325034484a08bd3e5c38ee937aa2"
            }
          },
          "metadata": {}
        },
        {
          "output_type": "display_data",
          "data": {
            "text/plain": [
              "unet/diffusion_pytorch_model.safetensors:   0%|          | 0.00/4.91G [00:00<?, ?B/s]"
            ],
            "application/vnd.jupyter.widget-view+json": {
              "version_major": 2,
              "version_minor": 0,
              "model_id": "9777441e8faf41a5a77d87b0153f2c49"
            }
          },
          "metadata": {}
        },
        {
          "output_type": "display_data",
          "data": {
            "text/plain": [
              "Loading pipeline components...:   0%|          | 0/5 [00:00<?, ?it/s]"
            ],
            "application/vnd.jupyter.widget-view+json": {
              "version_major": 2,
              "version_minor": 0,
              "model_id": "8b8ed6c918dd4a06bee53c9aeebfbe77"
            }
          },
          "metadata": {}
        },
        {
          "output_type": "stream",
          "name": "stderr",
          "text": [
            "You are using a model of type xlm-roberta to instantiate a model of type M-CLIP. This is not supported for all configurations of models and can yield errors.\n"
          ]
        },
        {
          "output_type": "execute_result",
          "data": {
            "text/plain": [
              "KandinskyPipeline {\n",
              "  \"_class_name\": \"KandinskyPipeline\",\n",
              "  \"_diffusers_version\": \"0.35.2\",\n",
              "  \"_name_or_path\": \"kandinsky-community/kandinsky-2-1\",\n",
              "  \"movq\": [\n",
              "    \"diffusers\",\n",
              "    \"VQModel\"\n",
              "  ],\n",
              "  \"scheduler\": [\n",
              "    \"diffusers\",\n",
              "    \"DDIMScheduler\"\n",
              "  ],\n",
              "  \"text_encoder\": [\n",
              "    \"kandinsky\",\n",
              "    \"MultilingualCLIP\"\n",
              "  ],\n",
              "  \"tokenizer\": [\n",
              "    \"transformers\",\n",
              "    \"XLMRobertaTokenizerFast\"\n",
              "  ],\n",
              "  \"unet\": [\n",
              "    \"diffusers\",\n",
              "    \"UNet2DConditionModel\"\n",
              "  ]\n",
              "}"
            ]
          },
          "metadata": {},
          "execution_count": 2
        }
      ]
    },
    {
      "cell_type": "code",
      "source": [
        "prompt = input(\"Enter your image description: \")\n",
        "negative_prompt = \"low quality, bad quality\"\n",
        "\n",
        "image_embeds, negative_image_embeds = pipe_prior(prompt, negative_prompt, guidance_scale=1.0).to_tuple()"
      ],
      "metadata": {
        "colab": {
          "base_uri": "https://localhost:8080/",
          "height": 86,
          "referenced_widgets": [
            "57204bf0c81e4f13bb610a42633bf377",
            "1b2fa68457304009a04e97280ac3ba96",
            "6a4f00a025d14f89860bd14231ef6ed8",
            "df5a87a2bbf34144926a7359c4c1d18e",
            "45d4240958bf48149f2dfeae079b87fa",
            "1d0bcbc4cd6d43a48e9453854ef05a27",
            "8f65927f5a7746778912fb0f3ea402f3",
            "6f33dadb58e2443f93e45dfb0f08f4ff",
            "853d403ef78b4482987019d8e28ea6b8",
            "142c7e57dab145bda7403173d7eb172e",
            "0e9021c6037747129065465248ef2b57"
          ]
        },
        "id": "wlpRMY6iT-hk",
        "outputId": "a170f530-bded-47c7-e8b0-193a38c4e3ec"
      },
      "execution_count": null,
      "outputs": [
        {
          "name": "stdout",
          "output_type": "stream",
          "text": [
            "Enter your image description: a picture of little cute boy sketching a beautiful painting of mountains, trees, river, birds, sunny climate\n"
          ]
        },
        {
          "output_type": "display_data",
          "data": {
            "text/plain": [
              "  0%|          | 0/25 [00:00<?, ?it/s]"
            ],
            "application/vnd.jupyter.widget-view+json": {
              "version_major": 2,
              "version_minor": 0,
              "model_id": "57204bf0c81e4f13bb610a42633bf377"
            }
          },
          "metadata": {}
        }
      ]
    },
    {
      "cell_type": "code",
      "source": [
        "image = t2i_pipe(prompt, negative_prompt=negative_prompt, image_embeds=image_embeds, negative_image_embeds=negative_image_embeds, height=768, width=768).images[0]\n",
        "image.save(\"gen.png\")"
      ],
      "metadata": {
        "colab": {
          "base_uri": "https://localhost:8080/",
          "height": 49,
          "referenced_widgets": [
            "81431660493345ec88438fb2fe2460c0",
            "64e7d666b19e4c42b9b8ebcc620bf5cd",
            "9b59ed60820240f7876598b481e519f9",
            "9c7c6bbe63084a07bcdad859b24e094c",
            "8a71e93abb714f1eae848c3decf8b372",
            "21fc30125175420ea7b7069b11efa93b",
            "388e340fcb4b4ebf993d4184663bc3b9",
            "7b3e998879f1491492f687038a2a5286",
            "acd84d6a60d34771a56ebd10c08faa78",
            "008dbfbc18a6456d96b046c8b6275da9",
            "5aa22688b1cc46d2b45e2320b2edac41"
          ]
        },
        "id": "Po8-OW2OU98a",
        "outputId": "95c50646-3acb-4207-a962-c42153d9693b"
      },
      "execution_count": null,
      "outputs": [
        {
          "output_type": "display_data",
          "data": {
            "text/plain": [
              "  0%|          | 0/100 [00:00<?, ?it/s]"
            ],
            "application/vnd.jupyter.widget-view+json": {
              "version_major": 2,
              "version_minor": 0,
              "model_id": "81431660493345ec88438fb2fe2460c0"
            }
          },
          "metadata": {}
        }
      ]
    }
  ]
}